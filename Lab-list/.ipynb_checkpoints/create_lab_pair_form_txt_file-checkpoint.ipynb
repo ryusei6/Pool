{
 "cells": [
  {
   "cell_type": "code",
   "execution_count": 4,
   "metadata": {},
   "outputs": [],
   "source": [
    "path = './data/data.txt'\n",
    "with open(path, 'r', encoding='utf_8') as f:\n",
    "    data = f.readlines()\n",
    "\n",
    "lab = []\n",
    "for i in range(len(data)):\n",
    "    count = 0\n",
    "    for j in range(len(data[i])):\n",
    "        if data[i][j] == 'A':\n",
    "            count += 1\n",
    "            if count == 2:\n",
    "                tmp1 = data[i][0:j]\n",
    "                tmp1 = tmp1.replace('\\n', '').replace(' ', '')\n",
    "                tmp2 = data[i][j:]\n",
    "                tmp2 = tmp2.replace('\\n', '').replace(' ', '')\n",
    "                lab.append([tmp1[:8], tmp1[8:]])\n",
    "                lab.append([tmp2[:8], tmp2[8:]])\n",
    "    if len(data[i]) <19:\n",
    "        tmp = data[i]\n",
    "        tmp = tmp.replace('\\n', '').replace(' ', '')\n",
    "        lab.append([tmp[:8], tmp[8:]])\n",
    "\n",
    "lab.sort(key=lambda x:x[0])\n",
    "lab.insert(0,[\"number\",\"professor\"])\n",
    "import csv\n",
    "with open('./data/lab.csv', 'w', newline=\"\") as f:\n",
    "    writer = csv.writer(f)\n",
    "    writer.writerows(lab)"
   ]
  }
 ],
 "metadata": {
  "kernelspec": {
   "display_name": "Python 3",
   "language": "python",
   "name": "python3"
  },
  "language_info": {
   "codemirror_mode": {
    "name": "ipython",
    "version": 3
   },
   "file_extension": ".py",
   "mimetype": "text/x-python",
   "name": "python",
   "nbconvert_exporter": "python",
   "pygments_lexer": "ipython3",
   "version": "3.7.1"
  }
 },
 "nbformat": 4,
 "nbformat_minor": 2
}
